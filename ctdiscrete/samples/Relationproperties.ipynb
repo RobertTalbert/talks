{
 "cells": [
  {
   "cell_type": "markdown",
   "metadata": {},
   "source": [
    "## MTH 325: Discrete Structures for Computer Science 2\n",
    "\n",
    "## Relations Programming Problem 1: Relation property finder functions\n",
    "\n",
    "### Goal of this problem\n",
    "\n",
    "In this miniproject, you will write four different functions in SageMath: `isReflexive`, `isSymmetric`, `isAntisymmetric`, and `isTransitive`. The functions should behave like this: \n",
    "\n",
    "+ The input to the function is a relation on a set, _entered as a dictionary_.\n",
    "+ The output of the function `isReflexive` is a Boolean, returning `True` if the relation that was input has the reflexive property, or `False` if it does not have the reflexive property. \n",
    "+ The remaining three functions `isSymmetric`, `isAntiSymmetric`, and `isTransitive` should behave similarly: `isSymmetric` should return `True` if the relation is symmetric and `False` otherwise; `isAntisymmetric` should return `True` if the relation is antisymmetric and `False` otherwise; `isTransitive` should return `True` if the relation is transitive and `False` otherwise. \n",
    "\n",
    "[Here is a screenshot](https://goo.gl/8NyO9u) with some examples of the input and outputs that are expected."
   ]
  },
  {
   "cell_type": "markdown",
   "metadata": {},
   "source": [
    "### Notes\n",
    "\n",
    "**Tools you can use:** You can use any function or method found in the standard Python tool set or in networkX to help you, as long as the function or method does not actually perform the operations your code is being asked to do. For example, if you discover a method that will determine directly, in a single command, whether a relation is reflexive, then you may not use it. But if you find helper functions and methods that can be chained together or used creatively to do this, then go for it. \n",
    "\n",
    "**Restrictions to follow:** You are not allowed to use any other libraries besides networkX. Also to reiterate, do not use any Python or networkX functions or methods that would do this work directly. \n",
    "\n",
    "**Other notes:** Please note that the functions you are writing should `return`, not `print` to give the result. \n",
    "\n",
    "### Submitting your work\n",
    "\n",
    "__What to submit:__ You will submit your work in a Jupyter notebook with each of the functions above appearing in the same code block. So, there should only be one large block of code in your submission. Please __do not include any examples or test cases that you might use.__ (But please _do_ use test cases to check the correctness of your code.) Each function should also be well-documented by including a clear, thorough description that explains in English how the code for each function works. You can put those explanations in a separate cell in your Jupyter notebook as text, or you can include them as comments in your Python code. Also, _please make sure you have given your function the correct names as indicated above._\n",
    "\n",
    "__How to submit your work:__ Go to Blackboard and submit your work in the area for _Graph Applications Programming Problem 2_ using the same overall directions for the other programming problems. \n",
    "\n",
    "__When to submit your work:__ Programming problems do not have fixed deadlines. Simply work on this until you are certain it's ready to be submitted, then submit it. However, please remember __you may only submit two items per week__ and __no submissions may be made after 11:59pm Eastern time on Friday, December 9__. \n",
    "\n",
    "### Grading criteria\n",
    "\n",
    "Your functions will be tested using a collection of pre-made test cases that I will create. Your grade will be based on how often your code produces correct results and on the quality of your descriptions you provided. \n",
    "\n",
    "Remember that your work on programming problems is graded using the EMRN scale discussed in the syllabus. \n",
    "\n",
    "| Grade | Description |\n",
    "|:----- | :---------- |\n",
    "| E | The functions produce correct output on all (100%) of the test cases. Also, each function has an English description that provides a clear explanation of how each function works. | \n",
    "| M | The functions produce correct output on at least 3/4 of the test cases. Also, each function has an English description that explains how the code works. |\n",
    "| R | There are no syntax errors in the code but correct output is produced on less than 75% of the test cases. Or, the explanations are provided but are not clear or do not explain how all parts of the code work. |\n",
    "| N | There is a syntax error produced when the code is executed; or there is at least one explanation missing; or the code uses external libraries; or the code has systemic flaws. |\n",
    "\n",
    "__Please note:__ You are expected to test your code thoroughly before submitting it. Make sure you do the following:\n",
    "\n",
    "+ Before you submit, put your code in a notebook and run it one last time to make sure it does not produce errors when the code is executed. If the submission throws an error when I execute it, the grade on the work will automatically be N, because debugging your code is your responsibility. \n",
    "+ Before you submit, test your code with several diverse test cases to make sure it is producing the correct output each time. Use a wide variety of test cases for maximum certainty that you've solved the problem. \n"
   ]
  },
  {
   "cell_type": "code",
   "execution_count": null,
   "metadata": {
    "collapsed": true
   },
   "outputs": [],
   "source": []
  }
 ],
 "metadata": {
  "anaconda-cloud": {},
  "kernelspec": {
   "display_name": "Python [conda root]",
   "language": "python",
   "name": "conda-root-py"
  },
  "language_info": {
   "codemirror_mode": {
    "name": "ipython",
    "version": 3
   },
   "file_extension": ".py",
   "mimetype": "text/x-python",
   "name": "python",
   "nbconvert_exporter": "python",
   "pygments_lexer": "ipython3",
   "version": "3.5.2"
  }
 },
 "nbformat": 4,
 "nbformat_minor": 1
}

{
 "cells": [
  {
   "cell_type": "markdown",
   "metadata": {},
   "source": [
    "# Investigation\n",
    "\n",
    "__Question:__ How does the diameter of the complete bipartite graph $K_{m,n}$ depend on $m$ and/or $n$? \n",
    "\n",
    "Load networkX and the `random` library:"
   ]
  },
  {
   "cell_type": "code",
   "execution_count": null,
   "metadata": {
    "collapsed": true
   },
   "outputs": [],
   "source": [
    "import networkx as nx\n",
    "import random"
   ]
  },
  {
   "cell_type": "markdown",
   "metadata": {},
   "source": [
    "In the code cell below, write a loop to find the diameters of 20 different complete bipartite graphs whose $m,n$ values are randomly selected between 2 and 100. Each time through the loop, print off $m$, $n$, and the diameter. \n",
    "\n",
    ">The command `random.randint(2,n)`  generates a random integer between 2 and $n-1$. "
   ]
  },
  {
   "cell_type": "code",
   "execution_count": null,
   "metadata": {
    "collapsed": false
   },
   "outputs": [],
   "source": [
    "# Type your code below\n",
    "\n",
    "# Here's the code you saw in the presentation\n",
    "for i in range(20):\n",
    "    m = random.randint(2, 100)\n",
    "    n = random.randint(2, 100)\n",
    "    kmn = nx.complete_bipartite_graph(m,n)\n",
    "    print(m, n, nx.diameter(kmn))\n"
   ]
  },
  {
   "cell_type": "markdown",
   "metadata": {},
   "source": [
    "What is your conjecture?"
   ]
  },
  {
   "cell_type": "code",
   "execution_count": null,
   "metadata": {
    "collapsed": true
   },
   "outputs": [],
   "source": [
    "# Change this cell to Markdown and type out your conjecture"
   ]
  }
 ],
 "metadata": {
  "anaconda-cloud": {},
  "kernelspec": {
   "display_name": "Python [default]",
   "language": "python",
   "name": "python3"
  },
  "language_info": {
   "codemirror_mode": {
    "name": "ipython",
    "version": 3
   },
   "file_extension": ".py",
   "mimetype": "text/x-python",
   "name": "python",
   "nbconvert_exporter": "python",
   "pygments_lexer": "ipython3",
   "version": "3.5.2"
  }
 },
 "nbformat": 4,
 "nbformat_minor": 2
}

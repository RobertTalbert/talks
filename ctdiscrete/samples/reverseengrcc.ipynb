{
 "cells": [
  {
   "cell_type": "markdown",
   "metadata": {
    "button": false,
    "deletable": true,
    "new_sheet": false,
    "run_control": {
     "read_only": false
    }
   },
   "source": [
    "## MTH 325: Discrete Structures for Computer Science 2\n",
    "\n",
    "## Graph Applications Programming Problem 2: Reverse-engineering the clustering coefficient methods\n",
    "\n",
    "### Goal of this problem\n",
    "\n",
    "As you know, there is already a method built into networkX that finds the clustering coefficient of a node in the graph, and this method can be modified to produce a dictionary of clustering coefficients for the whole graph. To review, here's how this works. First let's make a randomly generated graph:"
   ]
  },
  {
   "cell_type": "code",
   "execution_count": 1,
   "metadata": {
    "button": false,
    "collapsed": false,
    "deletable": true,
    "new_sheet": false,
    "run_control": {
     "read_only": false
    }
   },
   "outputs": [
    {
     "data": {
      "image/png": "[encoded data removed]",
      "text/plain": [
       "<matplotlib.figure.Figure at 0x104852a20>"
      ]
     },
     "metadata": {},
     "output_type": "display_data"
    }
   ],
   "source": [
    "import networkx as nx\n",
    "g = nx.random_graphs.gnp_random_graph(8, 0.3)\n",
    "\n",
    "# We don't need to visualize this, but it's helpful:\n",
    "import matplotlib.pyplot as plt\n",
    "nx.draw_circular(g, with_labels=True)\n",
    "plt.show()"
   ]
  },
  {
   "cell_type": "code",
   "execution_count": 2,
   "metadata": {
    "button": false,
    "collapsed": false,
    "deletable": true,
    "new_sheet": false,
    "run_control": {
     "read_only": false
    }
   },
   "outputs": [
    {
     "data": {
      "text/plain": [
       "0.3333333333333333"
      ]
     },
     "execution_count": 2,
     "metadata": {},
     "output_type": "execute_result"
    }
   ],
   "source": [
    "# Finding the CC of a node: \n",
    "nx.clustering(g,3)"
   ]
  },
  {
   "cell_type": "code",
   "execution_count": 3,
   "metadata": {
    "button": false,
    "collapsed": false,
    "deletable": true,
    "new_sheet": false,
    "run_control": {
     "read_only": false
    }
   },
   "outputs": [
    {
     "data": {
      "text/plain": [
       "{0: 1.0, 1: 0.0, 2: 0.0, 3: 0.3333333333333333, 4: 0.0, 5: 0.0, 6: 1.0, 7: 0.0}"
      ]
     },
     "execution_count": 3,
     "metadata": {},
     "output_type": "execute_result"
    }
   ],
   "source": [
    "# Getting a dictionary of CC's for all nodes in the graph: \n",
    "nx.clustering(g)"
   ]
  },
  {
   "cell_type": "markdown",
   "metadata": {
    "button": false,
    "deletable": true,
    "new_sheet": false,
    "run_control": {
     "read_only": false
    }
   },
   "source": [
    "The goal of this problem is to write two functions that compute clustering coefficients. \n",
    "\n",
    "The first is a function that does what `nx.clustering` does. This function, which you are to call `my_clustering`, works as follows: \n",
    "\n",
    "+ If a graph `g` and a node `v` in `g` are passed to it, then `my_clustering(g,v)` returns the clustering coefficient of `v`. \n",
    "+ If only the graph `g` is passed to it, with no specific node mentioned, then `my_clustering(g)` returns a dictionary whose keys are the nodes of the graph and the value attached to each key is the clustering coefficient of the key (just like `nx.clustering(g)` does). \n",
    "\n",
    "The second function to write is a new function called `overall_clustering` that accepts a networkX graph object and returns the overall clustering coefficient of the graph. There is no built-in method in networkX that does this directly, so we're writing one. \n",
    "\n",
    "Recall that the overall clustering coefficient of a graph is just the average of the clustering coefficients of the nodes of the graph, so `overall_clustering` uses `my_clustering` in a fairly obvious and important way. "
   ]
  },
  {
   "cell_type": "markdown",
   "metadata": {
    "button": false,
    "deletable": true,
    "new_sheet": false,
    "run_control": {
     "read_only": false
    }
   },
   "source": [
    "### Notes\n",
    "\n",
    "**Tools you can use:** You can use any function found in networkX to help you other than the `clustering` method itself (obviously). You might benefit from searching the documentation for networkX before beginning to write any code, to see if what you're trying to write has already been written. In fact one of the goals of this problem is to invite you to explore the networkX library a little more deeply and to use what you might find. \n",
    "\n",
    "**Restrictions to follow:** You are not allowed to use any other libraries besides networkX. Also, as mentioned you are not allowed to just use the built-in `clustering` function because the whole point here is to reverse-engineer this function. Note that this function should use the `return` statement to return the output. Your function should produce exactly the same output that the built-in `clustering` method produces. \n",
    "\n",
    "Also: What you are writing in this problem is a Python _function_, not a method attached to a particular Python _class_. If you don't know what a \"class\" is then you are fine, because you won't be tempted to write one. _Very importantly:_ Don't called your function `clustering` but `my_clustering`, to avoid awkward conflicts between your function and the built-in `clustering` method. \n",
    "\n",
    "**Other notes:** If the graph is disconnected, you can choose how to return an error. The error doesn't have to look exactly like the error produced by the `diameter` method as shown above. \n",
    "\n",
    "### Submitting your work\n",
    "\n",
    "__What to submit:__ You will submit your work in a Jupyter notebook with each of the functions above appearing in the same code block. So, there should only be one large block of code in your submission. Please __do not include any examples or test cases that you might use.__ (But please _do_ use test cases to check the correctness of your code.) Each function should also be well-documented by including a clear, thorough description that explains in English how the code for each function works. You can put those explanations in a separate cell in your Jupyter notebook as text, or you can include them as comments in your Python code. Also, _please make sure you have given your function the correct names as indicated above._\n",
    "\n",
    "__How to submit your work:__ Go to Blackboard and submit your work in the area for _Graph Applications Programming Problem 2_ using the same overall directions for the other programming problems. \n",
    "\n",
    "__When to submit your work:__ Programming problems do not have fixed deadlines. Simply work on this until you are certain it's ready to be submitted, then submit it. However, please remember __you may only submit two items per week__ and __no submissions may be made after 11:59pm Eastern time on Friday, December 9__. \n",
    "\n",
    "### Grading criteria\n",
    "\n",
    "Your functions will be tested using a collection of pre-made test cases that I will create. Your grade will be based on how often your code produces correct results and on the quality of your descriptions you provided. \n",
    "\n",
    "Remember that your work on programming problems is graded using the EMRN scale discussed in the syllabus. \n",
    "\n",
    "| Grade | Description |\n",
    "|:----- | :---------- |\n",
    "| E | The functions produce correct output on all (100%) of the test cases. Also, each function has an English description that provides a clear explanation of how each function works. | \n",
    "| M | The functions produce correct output on at least 3/4 of the test cases. Also, each function has an English description that explains how the code works. |\n",
    "| R | There are no syntax errors in the code but correct output is produced on less than 75% of the test cases. Or, the explanations are provided but are not clear or do not explain how all parts of the code work. |\n",
    "| N | There is a syntax error produced when the code is executed; or there is at least one explanation missing; or the code uses external libraries; or the code has systemic flaws. |\n",
    "\n",
    "__Please note:__ You are expected to test your code thoroughly before submitting it. Make sure you do the following:\n",
    "\n",
    "+ Before you submit, put your code in a notebook and run it one last time to make sure it does not produce errors when the code is executed. If the submission throws an error when I execute it, the grade on the work will automatically be N, because debugging your code is your responsibility. \n",
    "+ Before you submit, test your code with several diverse test cases to make sure it is producing the correct output each time. Use a wide variety of test cases for maximum certainty that you've solved the problem. \n",
    "\n",
    "Since you are trying to re-create a built-in networkX function, it is very easy for you to check your code for correctness. "
   ]
  },
  {
   "cell_type": "code",
   "execution_count": null,
   "metadata": {
    "button": false,
    "collapsed": true,
    "deletable": true,
    "new_sheet": false,
    "run_control": {
     "read_only": false
    }
   },
   "outputs": [],
   "source": []
  }
 ],
 "metadata": {
  "anaconda-cloud": {},
  "kernelspec": {
   "display_name": "Python [conda root]",
   "language": "python",
   "name": "conda-root-py"
  },
  "language_info": {
   "codemirror_mode": {
    "name": "ipython",
    "version": 3
   },
   "file_extension": ".py",
   "mimetype": "text/x-python",
   "name": "python",
   "nbconvert_exporter": "python",
   "pygments_lexer": "ipython3",
   "version": "3.5.2"
  }
 },
 "nbformat": 4,
 "nbformat_minor": 1
}
